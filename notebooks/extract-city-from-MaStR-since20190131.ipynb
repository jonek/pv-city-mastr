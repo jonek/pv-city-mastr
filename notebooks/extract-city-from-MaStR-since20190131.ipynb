{
 "cells": [
  {
   "cell_type": "code",
   "execution_count": 54,
   "metadata": {},
   "outputs": [],
   "source": [
    "import pandas as pd"
   ]
  },
  {
   "cell_type": "markdown",
   "metadata": {},
   "source": [
    "## Load Data"
   ]
  },
  {
   "cell_type": "code",
   "execution_count": 55,
   "metadata": {},
   "outputs": [
    {
     "name": "stdout",
     "output_type": "stream",
     "text": [
      "200303_MaStRDaten_registriert_ab_31-01-2019.csv\r\n",
      "200303_MaStR-Daten_registriert_ab_31-01-2019_from_LibreOffice.csv\r\n",
      "200303_MaStR-Daten_registriert_ab_31-01-2019.xlsx\r\n"
     ]
    }
   ],
   "source": [
    "!ls '/data/DatenAb310119'"
   ]
  },
  {
   "cell_type": "code",
   "execution_count": 56,
   "metadata": {},
   "outputs": [
    {
     "name": "stderr",
     "output_type": "stream",
     "text": [
      "/opt/conda/lib/python3.7/site-packages/IPython/core/interactiveshell.py:3063: DtypeWarning: Columns (1,10,11,14,19,31,33,37,38,39,40,45,46,47,48,62,68,69,70,74,78,79,81,85,86,87,88,89,90,91,97) have mixed types.Specify dtype option on import or set low_memory=False.\n",
      "  interactivity=interactivity, compiler=compiler, result=result)\n"
     ]
    }
   ],
   "source": [
    "data = pd.read_csv('/data/DatenAb310119/200303_MaStRDaten_registriert_ab_31-01-2019.csv')"
   ]
  },
  {
   "cell_type": "code",
   "execution_count": 57,
   "metadata": {},
   "outputs": [],
   "source": [
    "city = 'Karlsruhe'"
   ]
  },
  {
   "cell_type": "markdown",
   "metadata": {
    "variables": {
     "city": "Karlsruhe"
    }
   },
   "source": [
    "## Extract city: *{{city}}*"
   ]
  },
  {
   "cell_type": "code",
   "execution_count": 58,
   "metadata": {},
   "outputs": [],
   "source": [
    "cityData = data[data[\"ENH_Ort\"] == city]"
   ]
  },
  {
   "cell_type": "code",
   "execution_count": 59,
   "metadata": {},
   "outputs": [
    {
     "data": {
      "text/plain": [
       "((949, 106), (949, 73))"
      ]
     },
     "execution_count": 59,
     "metadata": {},
     "output_type": "execute_result"
    }
   ],
   "source": [
    "# remove empty columns\n",
    "cityDataClean = cityData.dropna(axis=1, how='all')\n",
    "(cityData.shape, cityDataClean.shape)"
   ]
  },
  {
   "cell_type": "code",
   "execution_count": 60,
   "metadata": {
    "scrolled": true
   },
   "outputs": [
    {
     "data": {
      "text/plain": [
       "Solareinheit              726\n",
       "Stromspeichereinheit      172\n",
       "Verbrennung                48\n",
       "Windeinheit                 1\n",
       "Gasverbrauchseinheit        1\n",
       "Stromverbrauchseinheit      1\n",
       "Name: ENH_EinheitenTyp, dtype: int64"
      ]
     },
     "execution_count": 60,
     "metadata": {},
     "output_type": "execute_result"
    }
   ],
   "source": [
    "cityDataClean['ENH_EinheitenTyp'].value_counts()"
   ]
  },
  {
   "cell_type": "code",
   "execution_count": 61,
   "metadata": {},
   "outputs": [
    {
     "data": {
      "text/plain": [
       "Batterie                              171\n",
       "Verbrennungsmotor                      26\n",
       "Brennstoffzelle                        10\n",
       "Kondensationsmaschine mit Entnahme      6\n",
       "Gasturbinen ohne Abhitzekessel          2\n",
       "Sonstige                                2\n",
       "Horizontalläufer                        1\n",
       "Gasturbinen mit Abhitzekessel           1\n",
       "Stirlingmotor                           1\n",
       "Gegendruckmaschine mit Entnahme         1\n",
       "Name: ENH_Technologie, dtype: int64"
      ]
     },
     "execution_count": 61,
     "metadata": {},
     "output_type": "execute_result"
    }
   ],
   "source": [
    "cityDataClean['ENH_Technologie'].value_counts()"
   ]
  },
  {
   "cell_type": "markdown",
   "metadata": {},
   "source": [
    "### Restrict to entries after 2019-01-31\n",
    "See hint about filtering on [MaStR](https://www.bundesnetzagentur.de/DE/Sachgebiete/ElektrizitaetundGas/Unternehmen_Institutionen/DatenaustauschundMonitoring/Marktstammdatenregister/MaStR_node.html)."
   ]
  },
  {
   "cell_type": "code",
   "execution_count": 62,
   "metadata": {},
   "outputs": [],
   "source": [
    "cityDataClean = cityDataClean[cityDataClean['ENH_InbetriebnahmeDatum'] > '2019-01-31']"
   ]
  },
  {
   "cell_type": "code",
   "execution_count": 63,
   "metadata": {
    "scrolled": true
   },
   "outputs": [
    {
     "data": {
      "text/html": [
       "<div>\n",
       "<style scoped>\n",
       "    .dataframe tbody tr th:only-of-type {\n",
       "        vertical-align: middle;\n",
       "    }\n",
       "\n",
       "    .dataframe tbody tr th {\n",
       "        vertical-align: top;\n",
       "    }\n",
       "\n",
       "    .dataframe thead th {\n",
       "        text-align: right;\n",
       "    }\n",
       "</style>\n",
       "<table border=\"1\" class=\"dataframe\">\n",
       "  <thead>\n",
       "    <tr style=\"text-align: right;\">\n",
       "      <th></th>\n",
       "      <th></th>\n",
       "      <th>Unnamed: 0</th>\n",
       "      <th>ENH_MastrID</th>\n",
       "      <th>ENH_MastrNummer</th>\n",
       "      <th>ENH_Systemstatus</th>\n",
       "      <th>ENH_Betriebsstatus</th>\n",
       "      <th>ENH_NameEinheit</th>\n",
       "      <th>ENH_NameKraftwerk</th>\n",
       "      <th>ENH_NameKraftwerksblock</th>\n",
       "      <th>ENH_GeplantesInbetriebnahmeDatum</th>\n",
       "      <th>ENH_InbetriebnahmeDatum</th>\n",
       "      <th>...</th>\n",
       "      <th>ENH_Kraftwerksnummer</th>\n",
       "      <th>ENH_AnteilBeeinflussbarerLast</th>\n",
       "      <th>ENH_AnzahlAngeschlossenerStromverbrauchseinheitenUeber50MegaWatt</th>\n",
       "      <th>ENH_IsPraequalifiziertAbschaltbareLast</th>\n",
       "      <th>ENH_IsStromerzeugung</th>\n",
       "      <th>ENH_Kopplung</th>\n",
       "      <th>ENH_Batterietechnologie</th>\n",
       "      <th>ENH_IsNotstromaggregat</th>\n",
       "      <th>ENH_NBP_Pruefungsdatum</th>\n",
       "      <th>ENH_NBP_Netzbetreiberpruefungsstatus</th>\n",
       "    </tr>\n",
       "    <tr>\n",
       "      <th>ENH_EinheitenTyp</th>\n",
       "      <th>ENH_Technologie</th>\n",
       "      <th></th>\n",
       "      <th></th>\n",
       "      <th></th>\n",
       "      <th></th>\n",
       "      <th></th>\n",
       "      <th></th>\n",
       "      <th></th>\n",
       "      <th></th>\n",
       "      <th></th>\n",
       "      <th></th>\n",
       "      <th></th>\n",
       "      <th></th>\n",
       "      <th></th>\n",
       "      <th></th>\n",
       "      <th></th>\n",
       "      <th></th>\n",
       "      <th></th>\n",
       "      <th></th>\n",
       "      <th></th>\n",
       "      <th></th>\n",
       "      <th></th>\n",
       "    </tr>\n",
       "  </thead>\n",
       "  <tbody>\n",
       "    <tr>\n",
       "      <th>Stromspeichereinheit</th>\n",
       "      <th>Batterie</th>\n",
       "      <td>93</td>\n",
       "      <td>93</td>\n",
       "      <td>93</td>\n",
       "      <td>93</td>\n",
       "      <td>93</td>\n",
       "      <td>93</td>\n",
       "      <td>0</td>\n",
       "      <td>0</td>\n",
       "      <td>0</td>\n",
       "      <td>93</td>\n",
       "      <td>...</td>\n",
       "      <td>0</td>\n",
       "      <td>0</td>\n",
       "      <td>0</td>\n",
       "      <td>0</td>\n",
       "      <td>0</td>\n",
       "      <td>91</td>\n",
       "      <td>93</td>\n",
       "      <td>93</td>\n",
       "      <td>0</td>\n",
       "      <td>93</td>\n",
       "    </tr>\n",
       "    <tr>\n",
       "      <th rowspan=\"3\" valign=\"top\">Verbrennung</th>\n",
       "      <th>Brennstoffzelle</th>\n",
       "      <td>3</td>\n",
       "      <td>3</td>\n",
       "      <td>3</td>\n",
       "      <td>3</td>\n",
       "      <td>3</td>\n",
       "      <td>3</td>\n",
       "      <td>3</td>\n",
       "      <td>3</td>\n",
       "      <td>0</td>\n",
       "      <td>3</td>\n",
       "      <td>...</td>\n",
       "      <td>0</td>\n",
       "      <td>0</td>\n",
       "      <td>0</td>\n",
       "      <td>0</td>\n",
       "      <td>0</td>\n",
       "      <td>0</td>\n",
       "      <td>0</td>\n",
       "      <td>3</td>\n",
       "      <td>0</td>\n",
       "      <td>3</td>\n",
       "    </tr>\n",
       "    <tr>\n",
       "      <th>Gasturbinen ohne Abhitzekessel</th>\n",
       "      <td>1</td>\n",
       "      <td>1</td>\n",
       "      <td>1</td>\n",
       "      <td>1</td>\n",
       "      <td>1</td>\n",
       "      <td>1</td>\n",
       "      <td>1</td>\n",
       "      <td>0</td>\n",
       "      <td>0</td>\n",
       "      <td>1</td>\n",
       "      <td>...</td>\n",
       "      <td>0</td>\n",
       "      <td>0</td>\n",
       "      <td>0</td>\n",
       "      <td>0</td>\n",
       "      <td>0</td>\n",
       "      <td>0</td>\n",
       "      <td>0</td>\n",
       "      <td>1</td>\n",
       "      <td>0</td>\n",
       "      <td>1</td>\n",
       "    </tr>\n",
       "    <tr>\n",
       "      <th>Verbrennungsmotor</th>\n",
       "      <td>4</td>\n",
       "      <td>4</td>\n",
       "      <td>4</td>\n",
       "      <td>4</td>\n",
       "      <td>4</td>\n",
       "      <td>4</td>\n",
       "      <td>4</td>\n",
       "      <td>4</td>\n",
       "      <td>0</td>\n",
       "      <td>4</td>\n",
       "      <td>...</td>\n",
       "      <td>0</td>\n",
       "      <td>0</td>\n",
       "      <td>0</td>\n",
       "      <td>0</td>\n",
       "      <td>0</td>\n",
       "      <td>0</td>\n",
       "      <td>0</td>\n",
       "      <td>4</td>\n",
       "      <td>0</td>\n",
       "      <td>4</td>\n",
       "    </tr>\n",
       "  </tbody>\n",
       "</table>\n",
       "<p>4 rows × 71 columns</p>\n",
       "</div>"
      ],
      "text/plain": [
       "                                                     Unnamed: 0  ENH_MastrID  \\\n",
       "ENH_EinheitenTyp     ENH_Technologie                                           \n",
       "Stromspeichereinheit Batterie                                93           93   \n",
       "Verbrennung          Brennstoffzelle                          3            3   \n",
       "                     Gasturbinen ohne Abhitzekessel           1            1   \n",
       "                     Verbrennungsmotor                        4            4   \n",
       "\n",
       "                                                     ENH_MastrNummer  \\\n",
       "ENH_EinheitenTyp     ENH_Technologie                                   \n",
       "Stromspeichereinheit Batterie                                     93   \n",
       "Verbrennung          Brennstoffzelle                               3   \n",
       "                     Gasturbinen ohne Abhitzekessel                1   \n",
       "                     Verbrennungsmotor                             4   \n",
       "\n",
       "                                                     ENH_Systemstatus  \\\n",
       "ENH_EinheitenTyp     ENH_Technologie                                    \n",
       "Stromspeichereinheit Batterie                                      93   \n",
       "Verbrennung          Brennstoffzelle                                3   \n",
       "                     Gasturbinen ohne Abhitzekessel                 1   \n",
       "                     Verbrennungsmotor                              4   \n",
       "\n",
       "                                                     ENH_Betriebsstatus  \\\n",
       "ENH_EinheitenTyp     ENH_Technologie                                      \n",
       "Stromspeichereinheit Batterie                                        93   \n",
       "Verbrennung          Brennstoffzelle                                  3   \n",
       "                     Gasturbinen ohne Abhitzekessel                   1   \n",
       "                     Verbrennungsmotor                                4   \n",
       "\n",
       "                                                     ENH_NameEinheit  \\\n",
       "ENH_EinheitenTyp     ENH_Technologie                                   \n",
       "Stromspeichereinheit Batterie                                     93   \n",
       "Verbrennung          Brennstoffzelle                               3   \n",
       "                     Gasturbinen ohne Abhitzekessel                1   \n",
       "                     Verbrennungsmotor                             4   \n",
       "\n",
       "                                                     ENH_NameKraftwerk  \\\n",
       "ENH_EinheitenTyp     ENH_Technologie                                     \n",
       "Stromspeichereinheit Batterie                                        0   \n",
       "Verbrennung          Brennstoffzelle                                 3   \n",
       "                     Gasturbinen ohne Abhitzekessel                  1   \n",
       "                     Verbrennungsmotor                               4   \n",
       "\n",
       "                                                     ENH_NameKraftwerksblock  \\\n",
       "ENH_EinheitenTyp     ENH_Technologie                                           \n",
       "Stromspeichereinheit Batterie                                              0   \n",
       "Verbrennung          Brennstoffzelle                                       3   \n",
       "                     Gasturbinen ohne Abhitzekessel                        0   \n",
       "                     Verbrennungsmotor                                     4   \n",
       "\n",
       "                                                     ENH_GeplantesInbetriebnahmeDatum  \\\n",
       "ENH_EinheitenTyp     ENH_Technologie                                                    \n",
       "Stromspeichereinheit Batterie                                                       0   \n",
       "Verbrennung          Brennstoffzelle                                                0   \n",
       "                     Gasturbinen ohne Abhitzekessel                                 0   \n",
       "                     Verbrennungsmotor                                              0   \n",
       "\n",
       "                                                     ENH_InbetriebnahmeDatum  \\\n",
       "ENH_EinheitenTyp     ENH_Technologie                                           \n",
       "Stromspeichereinheit Batterie                                             93   \n",
       "Verbrennung          Brennstoffzelle                                       3   \n",
       "                     Gasturbinen ohne Abhitzekessel                        1   \n",
       "                     Verbrennungsmotor                                     4   \n",
       "\n",
       "                                                     ...  \\\n",
       "ENH_EinheitenTyp     ENH_Technologie                 ...   \n",
       "Stromspeichereinheit Batterie                        ...   \n",
       "Verbrennung          Brennstoffzelle                 ...   \n",
       "                     Gasturbinen ohne Abhitzekessel  ...   \n",
       "                     Verbrennungsmotor               ...   \n",
       "\n",
       "                                                     ENH_Kraftwerksnummer  \\\n",
       "ENH_EinheitenTyp     ENH_Technologie                                        \n",
       "Stromspeichereinheit Batterie                                           0   \n",
       "Verbrennung          Brennstoffzelle                                    0   \n",
       "                     Gasturbinen ohne Abhitzekessel                     0   \n",
       "                     Verbrennungsmotor                                  0   \n",
       "\n",
       "                                                     ENH_AnteilBeeinflussbarerLast  \\\n",
       "ENH_EinheitenTyp     ENH_Technologie                                                 \n",
       "Stromspeichereinheit Batterie                                                    0   \n",
       "Verbrennung          Brennstoffzelle                                             0   \n",
       "                     Gasturbinen ohne Abhitzekessel                              0   \n",
       "                     Verbrennungsmotor                                           0   \n",
       "\n",
       "                                                     ENH_AnzahlAngeschlossenerStromverbrauchseinheitenUeber50MegaWatt  \\\n",
       "ENH_EinheitenTyp     ENH_Technologie                                                                                    \n",
       "Stromspeichereinheit Batterie                                                                        0                  \n",
       "Verbrennung          Brennstoffzelle                                                                 0                  \n",
       "                     Gasturbinen ohne Abhitzekessel                                                  0                  \n",
       "                     Verbrennungsmotor                                                               0                  \n",
       "\n",
       "                                                     ENH_IsPraequalifiziertAbschaltbareLast  \\\n",
       "ENH_EinheitenTyp     ENH_Technologie                                                          \n",
       "Stromspeichereinheit Batterie                                                             0   \n",
       "Verbrennung          Brennstoffzelle                                                      0   \n",
       "                     Gasturbinen ohne Abhitzekessel                                       0   \n",
       "                     Verbrennungsmotor                                                    0   \n",
       "\n",
       "                                                     ENH_IsStromerzeugung  \\\n",
       "ENH_EinheitenTyp     ENH_Technologie                                        \n",
       "Stromspeichereinheit Batterie                                           0   \n",
       "Verbrennung          Brennstoffzelle                                    0   \n",
       "                     Gasturbinen ohne Abhitzekessel                     0   \n",
       "                     Verbrennungsmotor                                  0   \n",
       "\n",
       "                                                     ENH_Kopplung  \\\n",
       "ENH_EinheitenTyp     ENH_Technologie                                \n",
       "Stromspeichereinheit Batterie                                  91   \n",
       "Verbrennung          Brennstoffzelle                            0   \n",
       "                     Gasturbinen ohne Abhitzekessel             0   \n",
       "                     Verbrennungsmotor                          0   \n",
       "\n",
       "                                                     ENH_Batterietechnologie  \\\n",
       "ENH_EinheitenTyp     ENH_Technologie                                           \n",
       "Stromspeichereinheit Batterie                                             93   \n",
       "Verbrennung          Brennstoffzelle                                       0   \n",
       "                     Gasturbinen ohne Abhitzekessel                        0   \n",
       "                     Verbrennungsmotor                                     0   \n",
       "\n",
       "                                                     ENH_IsNotstromaggregat  \\\n",
       "ENH_EinheitenTyp     ENH_Technologie                                          \n",
       "Stromspeichereinheit Batterie                                            93   \n",
       "Verbrennung          Brennstoffzelle                                      3   \n",
       "                     Gasturbinen ohne Abhitzekessel                       1   \n",
       "                     Verbrennungsmotor                                    4   \n",
       "\n",
       "                                                     ENH_NBP_Pruefungsdatum  \\\n",
       "ENH_EinheitenTyp     ENH_Technologie                                          \n",
       "Stromspeichereinheit Batterie                                             0   \n",
       "Verbrennung          Brennstoffzelle                                      0   \n",
       "                     Gasturbinen ohne Abhitzekessel                       0   \n",
       "                     Verbrennungsmotor                                    0   \n",
       "\n",
       "                                                     ENH_NBP_Netzbetreiberpruefungsstatus  \n",
       "ENH_EinheitenTyp     ENH_Technologie                                                       \n",
       "Stromspeichereinheit Batterie                                                          93  \n",
       "Verbrennung          Brennstoffzelle                                                    3  \n",
       "                     Gasturbinen ohne Abhitzekessel                                     1  \n",
       "                     Verbrennungsmotor                                                  4  \n",
       "\n",
       "[4 rows x 71 columns]"
      ]
     },
     "execution_count": 63,
     "metadata": {},
     "output_type": "execute_result"
    }
   ],
   "source": [
    "cityDataClean.groupby(['ENH_EinheitenTyp', 'ENH_Technologie']).count()"
   ]
  },
  {
   "cell_type": "code",
   "execution_count": 64,
   "metadata": {},
   "outputs": [
    {
     "name": "stdout",
     "output_type": "stream",
     "text": [
      "Column: \"ENH_EinheitenTyp\"\n",
      "\n",
      " Solareinheit            195\n",
      "Stromspeichereinheit     93\n",
      "Verbrennung               8\n",
      "Name: ENH_EinheitenTyp, dtype: int64 \n",
      "\n",
      "\n",
      "Column: \"ENH_Technologie\"\n",
      "\n",
      " Batterie                          93\n",
      "Verbrennungsmotor                  4\n",
      "Brennstoffzelle                    3\n",
      "Gasturbinen ohne Abhitzekessel     1\n",
      "Name: ENH_Technologie, dtype: int64 \n",
      "\n",
      "\n"
     ]
    }
   ],
   "source": [
    "for column in ['ENH_EinheitenTyp', 'ENH_Technologie']:\n",
    "    print('Column: \"%s\"\\n\\n' % column, cityDataClean[column].value_counts(), \"\\n\\n\")"
   ]
  },
  {
   "cell_type": "markdown",
   "metadata": {},
   "source": [
    "### Special Attributes\n",
    "Attributes that do NOT contain values for each row."
   ]
  },
  {
   "cell_type": "code",
   "execution_count": 65,
   "metadata": {},
   "outputs": [
    {
     "data": {
      "text/plain": [
       "ENH_NameKraftwerk                                                     8\n",
       "ENH_NameKraftwerksblock                                               7\n",
       "ENH_GeplantesInbetriebnahmeDatum                                      0\n",
       "ENH_EndgueltigeStilllegungDatum                                       0\n",
       "ENH_Lage                                                            195\n",
       "ENH_Strasse                                                           4\n",
       "ENH_Hausnummer                                                        4\n",
       "ENH_Gemarkung                                                         0\n",
       "ENH_Flurstueck                                                        0\n",
       "ENH_Breitengrad                                                       4\n",
       "ENH_Laengengrad                                                       4\n",
       "ENH_AnzahlModule                                                    194\n",
       "ENH_Wechselrichterleistung                                          288\n",
       "ENH_Wechselrichter                                                  195\n",
       "ENH_Leistungsbegrenzung                                             193\n",
       "ENH_IsGrenzkraftwerk                                                  0\n",
       "ENH_IsKombibetrieb                                                    0\n",
       "ENH_SolarLage                                                       195\n",
       "ENH_Nutzungsbereich                                                 189\n",
       "ENH_EinheitlicheAusrichtungUndNeigungswinkel                        193\n",
       "ENH_HauptAusrichtung                                                195\n",
       "ENH_HauptNeigungswinkel                                             194\n",
       "ENH_NebenAusrichtung                                                 68\n",
       "ENH_NebenNeigungswinkel                                              68\n",
       "ENH_Technologie                                                     101\n",
       "ENH_Nabenhoehe                                                        0\n",
       "ENH_Rotordurchmesser                                                  0\n",
       "ENH_AuflagenZuAbschaltungBzwLeistungsgrenzen                          0\n",
       "ENH_Hersteller                                                        0\n",
       "ENH_Typenbezeichner                                                   0\n",
       "ENH_Hauptbrennstoff                                                   8\n",
       "ENH_HauptbrennstoffWeiterer                                           0\n",
       "ENH_MarktpartnerNummer                                                0\n",
       "ENH_IsFernsteuerbarNetzbetreiber                                    295\n",
       "ENH_IsFernsteuerbarDirektvermarkter                                   2\n",
       "ENH_IsFernsteuerbarDritte                                             2\n",
       "ENH_IsAngeschlossenAnHoechstOderHochspannungsnetz                     1\n",
       "ENH_EinspeisungsArt                                                 293\n",
       "ENH_Einsatzort                                                       11\n",
       "ENH_MaStRNummerNetzbetreiber                                         65\n",
       "ENH_IsStilllegungNachParagraph13b                                     0\n",
       "ENH_WCode                                                             0\n",
       "ENH_Kraftwerksnummer                                                  0\n",
       "ENH_AnteilBeeinflussbarerLast                                         0\n",
       "ENH_AnzahlAngeschlossenerStromverbrauchseinheitenUeber50MegaWatt      0\n",
       "ENH_IsPraequalifiziertAbschaltbareLast                                0\n",
       "ENH_IsStromerzeugung                                                  0\n",
       "ENH_Kopplung                                                         91\n",
       "ENH_Batterietechnologie                                              93\n",
       "ENH_IsNotstromaggregat                                              101\n",
       "ENH_NBP_Pruefungsdatum                                               65\n",
       "dtype: int64"
      ]
     },
     "execution_count": 65,
     "metadata": {},
     "output_type": "execute_result"
    }
   ],
   "source": [
    "c = cityDataClean.count()\n",
    "c[c.values < c.max()]"
   ]
  },
  {
   "cell_type": "code",
   "execution_count": 66,
   "metadata": {},
   "outputs": [],
   "source": [
    "cityDataClean.to_csv(\"/data/200303_MaStRDaten_ab010219_Karlsruhe.csv\")"
   ]
  }
 ],
 "metadata": {
  "kernelspec": {
   "display_name": "Python 3",
   "language": "python",
   "name": "python3"
  },
  "language_info": {
   "codemirror_mode": {
    "name": "ipython",
    "version": 3
   },
   "file_extension": ".py",
   "mimetype": "text/x-python",
   "name": "python",
   "nbconvert_exporter": "python",
   "pygments_lexer": "ipython3",
   "version": "3.7.6"
  }
 },
 "nbformat": 4,
 "nbformat_minor": 4
}
