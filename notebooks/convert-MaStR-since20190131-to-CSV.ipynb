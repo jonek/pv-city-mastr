{
 "cells": [
  {
   "cell_type": "code",
   "execution_count": 1,
   "metadata": {},
   "outputs": [],
   "source": [
    "import pandas as pd\n",
    "import time"
   ]
  },
  {
   "cell_type": "markdown",
   "metadata": {},
   "source": [
    "## MaStR Data since 2019-01-31"
   ]
  },
  {
   "cell_type": "code",
   "execution_count": 6,
   "metadata": {
    "scrolled": true
   },
   "outputs": [
    {
     "name": "stdout",
     "output_type": "stream",
     "text": [
      "total 781M\r\n",
      "-rw-r--r-- 1 jovyan 1000 471M Jun 14 21:24 200303_MaStR-Daten_registriert_ab_31-01-2019_from_LibreOffice.csv\r\n",
      "-rw-rw-r-- 1 jovyan 1000 311M Mar  3 15:46 200303_MaStR-Daten_registriert_ab_31-01-2019.xlsx\r\n"
     ]
    }
   ],
   "source": [
    "!ls -lh \"/data/DatenAb310119\""
   ]
  },
  {
   "cell_type": "markdown",
   "metadata": {},
   "source": [
    "### Load Excel file"
   ]
  },
  {
   "cell_type": "code",
   "execution_count": 4,
   "metadata": {},
   "outputs": [
    {
     "data": {
      "text/plain": [
       "'11min 56sec'"
      ]
     },
     "execution_count": 4,
     "metadata": {},
     "output_type": "execute_result"
    }
   ],
   "source": [
    "start = time.time()\n",
    "data = pd.read_excel('data/DatenAb310119/200303_MaStR-Daten_registriert_ab_31-01-2019.xlsx', sheet_name=2)\n",
    "end = time.time()\n",
    "duration = time.gmtime(end - start)\n",
    "'{}min {}sec'.format(duration.tm_min, duration.tm_sec)"
   ]
  },
  {
   "cell_type": "markdown",
   "metadata": {},
   "source": [
    "### Save as CSV"
   ]
  },
  {
   "cell_type": "code",
   "execution_count": 7,
   "metadata": {},
   "outputs": [],
   "source": [
    "data.to_csv(\"/data/DatenAb310119/200303_MaStRDaten_registriert_ab_31-01-2019.csv\")"
   ]
  },
  {
   "cell_type": "code",
   "execution_count": 8,
   "metadata": {},
   "outputs": [
    {
     "name": "stdout",
     "output_type": "stream",
     "text": [
      "-rw-r--r-- 1 jovyan users 488M Jun 16 20:42 /data/DatenAb310119/200303_MaStRDaten_registriert_ab_31-01-2019.csv\r\n"
     ]
    }
   ],
   "source": [
    "!ls -lh \"/data/DatenAb310119/200303_MaStRDaten_registriert_ab_31-01-2019.csv\""
   ]
  }
 ],
 "metadata": {
  "kernelspec": {
   "display_name": "Python 3",
   "language": "python",
   "name": "python3"
  },
  "language_info": {
   "codemirror_mode": {
    "name": "ipython",
    "version": 3
   },
   "file_extension": ".py",
   "mimetype": "text/x-python",
   "name": "python",
   "nbconvert_exporter": "python",
   "pygments_lexer": "ipython3",
   "version": "3.7.6"
  }
 },
 "nbformat": 4,
 "nbformat_minor": 4
}
