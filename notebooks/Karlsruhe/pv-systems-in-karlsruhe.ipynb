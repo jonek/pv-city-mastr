{
 "cells": [
  {
   "cell_type": "code",
   "execution_count": 1,
   "metadata": {},
   "outputs": [],
   "source": [
    "import pandas as pd\n",
    "import numpy as np\n",
    "import matplotlib.pyplot as plt\n",
    "import matplotlib.patches as mpatches"
   ]
  },
  {
   "cell_type": "code",
   "execution_count": 2,
   "metadata": {},
   "outputs": [],
   "source": [
    "city = 'Karlsruhe'"
   ]
  },
  {
   "cell_type": "markdown",
   "metadata": {
    "variables": {
     "city": "Karlsruhe"
    }
   },
   "source": [
    "# Photovoltaic Systems in {{city}}"
   ]
  },
  {
   "cell_type": "markdown",
   "metadata": {},
   "source": [
    "We consider data from the dump files:\n",
    "- `200303_MaStR-Daten_registriert_ab_31-01-2019.xlsx` systems activated since 2019-01-31\n",
    "- `190703_MaStRDaten_MIGRATION_Teil1.xlsx` systems activated before 2019-02-01\n",
    "- `190703_MaStRDaten_MIGRATION_Teil2.xlsx` systems activated before 2019-02-01"
   ]
  },
  {
   "cell_type": "code",
   "execution_count": 3,
   "metadata": {},
   "outputs": [
    {
     "name": "stdout",
     "output_type": "stream",
     "text": [
      "total 627M\r\n",
      "-rw-r--r-- 1 jovyan  1000 315K Jun 14 18:46 190703_MaStRDaten_MIGRATION_Teil1_Karlsruhe.csv\r\n",
      "-rw-r--r-- 1 jovyan users 324K Jun 23 23:49 190703_MaStRDaten_MIGRATION_Teil1_Karlsruhe_vor010219.csv\r\n",
      "-rw-r--r-- 1 jovyan  1000 309K Jun 14 19:16 190703_MaStRDaten_MIGRATION_Teil2_Karlsruhe.csv\r\n",
      "-rw-r--r-- 1 jovyan users 318K Jun 23 23:49 190703_MaStRDaten_MIGRATION_Teil2_Karlsruhe_vor010219.csv\r\n",
      "-rw-r--r-- 1 jovyan users 155K Jun 20 13:25 200303_MaStRDaten_ab310119_Karlsruhe.csv\r\n",
      "-rw-r--r-- 1 jovyan users 348K Jun 20 13:25 200303_MaStRDaten_vor010219_Karlsruhe.csv\r\n",
      "drwxr-xr-x 2 jovyan  1000 4.0K Jun 16 20:41 DatenAb310119\r\n",
      "-rw-r--r-- 1 jovyan  1000 307M Jun 11 18:07 DatenAb310119.zip\r\n",
      "-rwxr-xr-x 1 jovyan  1000  769 Jun 17 22:59 download.sh\r\n",
      "-rw-r--r-- 1 jovyan users  16K Jun 24 23:13 karlsruhe-PV-withLatLon.csv\r\n",
      "drwxr-xr-x 2 jovyan  1000 4.0K Jun 23 23:19 MaStRDatenMigration1\r\n",
      "-rw-r--r-- 1 jovyan  1000 185M Jun 11 18:07 MaStRDatenMigration1.zip\r\n",
      "drwxr-xr-x 2 jovyan  1000 4.0K Jun 16 21:18 MaStRDatenMigration2\r\n",
      "-rw-r--r-- 1 jovyan  1000 134M Jun 11 18:07 MaStRDatenMigration2.zip\r\n",
      "-rw-r--r-- 1 jovyan  1000 503K Jun 11 18:07 MaStR-excerpt-Karlsruhe-PV-2020-06-01.csv\r\n",
      "-rw-r--r-- 1 jovyan  1000   62 Jun 17 21:41 README.md\r\n"
     ]
    }
   ],
   "source": [
    "!ls -lh \"/data\""
   ]
  },
  {
   "cell_type": "code",
   "execution_count": 4,
   "metadata": {},
   "outputs": [],
   "source": [
    "csvNew = pd.read_csv('/data/200303_MaStRDaten_ab310119_Karlsruhe.csv')\n",
    "csv2 = pd.read_csv('/data/190703_MaStRDaten_MIGRATION_Teil1_Karlsruhe_vor010219.csv')\n",
    "csv3 = pd.read_csv('/data/190703_MaStRDaten_MIGRATION_Teil2_Karlsruhe_vor010219.csv')"
   ]
  },
  {
   "cell_type": "code",
   "execution_count": 5,
   "metadata": {},
   "outputs": [
    {
     "name": "stdout",
     "output_type": "stream",
     "text": [
      "(296, 74)\n",
      "Solareinheit            195\n",
      "Stromspeichereinheit     93\n",
      "Verbrennung               8\n",
      "Name: ENH_EinheitenTyp, dtype: int64\n",
      "(1227, 24)\n",
      "Solareinheit    1227\n",
      "Name: ENH_EinheitenTyp, dtype: int64\n",
      "(1208, 40)\n",
      "Solareinheit            1119\n",
      "Stromspeichereinheit      49\n",
      "Verbrennung               27\n",
      "Biomasse                   6\n",
      "Windeinheit                5\n",
      "Wasser                     2\n",
      "Name: ENH_EinheitenTyp, dtype: int64\n"
     ]
    }
   ],
   "source": [
    "for csv in [csvNew, csv2, csv3]:\n",
    "    print(csv.shape)\n",
    "    print(csv['ENH_EinheitenTyp'].value_counts())"
   ]
  },
  {
   "cell_type": "code",
   "execution_count": 6,
   "metadata": {
    "scrolled": true
   },
   "outputs": [
    {
     "name": "stdout",
     "output_type": "stream",
     "text": [
      "(2435, 40)\n",
      "Solareinheit            2346\n",
      "Stromspeichereinheit      49\n",
      "Verbrennung               27\n",
      "Biomasse                   6\n",
      "Windeinheit                5\n",
      "Wasser                     2\n",
      "Name: ENH_EinheitenTyp, dtype: int64\n"
     ]
    }
   ],
   "source": [
    "csvOld = csv2.append(csv3)\n",
    "print(csvOld.shape)\n",
    "print(csvOld['ENH_EinheitenTyp'].value_counts())"
   ]
  },
  {
   "cell_type": "markdown",
   "metadata": {},
   "source": [
    "Reset the index after appending two data frames."
   ]
  },
  {
   "cell_type": "code",
   "execution_count": 7,
   "metadata": {},
   "outputs": [
    {
     "data": {
      "text/plain": [
       "0    2010-11-15 00:00:00\n",
       "0    2016-04-04 00:00:00\n",
       "Name: ENH_InbetriebnahmeDatum, dtype: object"
      ]
     },
     "execution_count": 7,
     "metadata": {},
     "output_type": "execute_result"
    }
   ],
   "source": [
    "csvOld['ENH_InbetriebnahmeDatum'][0]"
   ]
  },
  {
   "cell_type": "code",
   "execution_count": 8,
   "metadata": {},
   "outputs": [
    {
     "data": {
      "text/plain": [
       "'2010-11-15 00:00:00'"
      ]
     },
     "execution_count": 8,
     "metadata": {},
     "output_type": "execute_result"
    }
   ],
   "source": [
    "csvOld.reset_index(drop=True, inplace=True)\n",
    "csvOld['ENH_InbetriebnahmeDatum'][0]"
   ]
  },
  {
   "cell_type": "markdown",
   "metadata": {},
   "source": [
    "Combine old a new data."
   ]
  },
  {
   "cell_type": "code",
   "execution_count": 9,
   "metadata": {
    "scrolled": true
   },
   "outputs": [
    {
     "name": "stdout",
     "output_type": "stream",
     "text": [
      "(2731, 77)\n",
      "Solareinheit            2541\n",
      "Stromspeichereinheit     142\n",
      "Verbrennung               35\n",
      "Biomasse                   6\n",
      "Windeinheit                5\n",
      "Wasser                     2\n",
      "Name: ENH_EinheitenTyp, dtype: int64\n"
     ]
    }
   ],
   "source": [
    "csv = csvNew.append(csvOld)\n",
    "csv.reset_index(drop=True, inplace=True)\n",
    "print(csv.shape)\n",
    "print(csv['ENH_EinheitenTyp'].value_counts())"
   ]
  },
  {
   "cell_type": "markdown",
   "metadata": {},
   "source": [
    "Fix zip codes by restoring integer values."
   ]
  },
  {
   "cell_type": "code",
   "execution_count": 10,
   "metadata": {
    "scrolled": true
   },
   "outputs": [
    {
     "data": {
      "text/plain": [
       "76228    509\n",
       "76149    377\n",
       "76227    253\n",
       "76189    253\n",
       "76187    248\n",
       "76139    232\n",
       "76185    209\n",
       "76229    199\n",
       "76199    144\n",
       "76131    105\n",
       "76133     80\n",
       "76135     72\n",
       "76137     49\n",
       "76448      1\n",
       "Name: ENH_Plz, dtype: int64"
      ]
     },
     "execution_count": 10,
     "metadata": {},
     "output_type": "execute_result"
    }
   ],
   "source": [
    "csv = csv.assign(ENH_Plz = csv['ENH_Plz'].astype('int32'))\n",
    "csv.ENH_Plz.value_counts()"
   ]
  },
  {
   "cell_type": "markdown",
   "metadata": {},
   "source": [
    "Filter by photovoltaic systems."
   ]
  },
  {
   "cell_type": "code",
   "execution_count": 11,
   "metadata": {},
   "outputs": [],
   "source": [
    "pv = csv.loc[csv['ENH_EinheitenTyp'] == 'Solareinheit']"
   ]
  },
  {
   "cell_type": "code",
   "execution_count": 12,
   "metadata": {},
   "outputs": [
    {
     "data": {
      "text/plain": [
       "In Betrieb    2541\n",
       "Name: ENH_Betriebsstatus, dtype: int64"
      ]
     },
     "execution_count": 12,
     "metadata": {},
     "output_type": "execute_result"
    }
   ],
   "source": [
    "pv['ENH_Betriebsstatus'].value_counts()"
   ]
  },
  {
   "cell_type": "code",
   "execution_count": 13,
   "metadata": {},
   "outputs": [],
   "source": [
    "interestingColumns = ['ENH_Strasse', 'ENH_Hausnummer', 'ENH_Plz', 'ENH_Ort', 'ENH_Bruttoleistung', 'ENH_Breitengrad',\n",
    "       'ENH_Laengengrad', 'ENH_InbetriebnahmeDatum', 'ENH_Betriebsstatus']"
   ]
  },
  {
   "cell_type": "code",
   "execution_count": 14,
   "metadata": {},
   "outputs": [
    {
     "name": "stdout",
     "output_type": "stream",
     "text": [
      "number of plants that are not yet activated: 0\n"
     ]
    }
   ],
   "source": [
    "activationDates = pv['ENH_InbetriebnahmeDatum']\n",
    "notYetActivated = activationDates[activationDates.isna()]\n",
    "print(\"number of plants that are not yet activated:\", notYetActivated.size)"
   ]
  },
  {
   "cell_type": "code",
   "execution_count": 15,
   "metadata": {},
   "outputs": [
    {
     "data": {
      "text/plain": [
       "2011    339\n",
       "2010    335\n",
       "2012    253\n",
       "2009    204\n",
       "2019    179\n",
       "2013    173\n",
       "2008    131\n",
       "2018    121\n",
       "2017    118\n",
       "2007    113\n",
       "2014     99\n",
       "2016     90\n",
       "2006     89\n",
       "2015     86\n",
       "2005     71\n",
       "2000     34\n",
       "2020     24\n",
       "2001     21\n",
       "2004     21\n",
       "2002     18\n",
       "2003     17\n",
       "1992      2\n",
       "1995      1\n",
       "1998      1\n",
       "1996      1\n",
       "Name: InbetriebnahmeDatum_Year, dtype: int64"
      ]
     },
     "execution_count": 15,
     "metadata": {},
     "output_type": "execute_result"
    }
   ],
   "source": [
    "pv = pv.assign(InbetriebnahmeDatum_Year = pd.DatetimeIndex(pv['ENH_InbetriebnahmeDatum']).year)\n",
    "pv.InbetriebnahmeDatum_Year.value_counts()"
   ]
  },
  {
   "cell_type": "code",
   "execution_count": 16,
   "metadata": {},
   "outputs": [
    {
     "data": {
      "text/html": [
       "<div>\n",
       "<style scoped>\n",
       "    .dataframe tbody tr th:only-of-type {\n",
       "        vertical-align: middle;\n",
       "    }\n",
       "\n",
       "    .dataframe tbody tr th {\n",
       "        vertical-align: top;\n",
       "    }\n",
       "\n",
       "    .dataframe thead th {\n",
       "        text-align: right;\n",
       "    }\n",
       "</style>\n",
       "<table border=\"1\" class=\"dataframe\">\n",
       "  <thead>\n",
       "    <tr style=\"text-align: right;\">\n",
       "      <th></th>\n",
       "      <th>count</th>\n",
       "      <th>grossPower</th>\n",
       "      <th>netPower</th>\n",
       "    </tr>\n",
       "    <tr>\n",
       "      <th>InbetriebnahmeDatum_Year</th>\n",
       "      <th></th>\n",
       "      <th></th>\n",
       "      <th></th>\n",
       "    </tr>\n",
       "  </thead>\n",
       "  <tbody>\n",
       "    <tr>\n",
       "      <th>1992</th>\n",
       "      <td>2</td>\n",
       "      <td>6.496</td>\n",
       "      <td>6.496</td>\n",
       "    </tr>\n",
       "    <tr>\n",
       "      <th>1995</th>\n",
       "      <td>1</td>\n",
       "      <td>3.400</td>\n",
       "      <td>3.400</td>\n",
       "    </tr>\n",
       "    <tr>\n",
       "      <th>1996</th>\n",
       "      <td>1</td>\n",
       "      <td>1.500</td>\n",
       "      <td>1.500</td>\n",
       "    </tr>\n",
       "    <tr>\n",
       "      <th>1998</th>\n",
       "      <td>1</td>\n",
       "      <td>1.500</td>\n",
       "      <td>1.500</td>\n",
       "    </tr>\n",
       "    <tr>\n",
       "      <th>2000</th>\n",
       "      <td>34</td>\n",
       "      <td>422.590</td>\n",
       "      <td>422.590</td>\n",
       "    </tr>\n",
       "    <tr>\n",
       "      <th>2001</th>\n",
       "      <td>21</td>\n",
       "      <td>95.540</td>\n",
       "      <td>95.540</td>\n",
       "    </tr>\n",
       "    <tr>\n",
       "      <th>2002</th>\n",
       "      <td>18</td>\n",
       "      <td>47.270</td>\n",
       "      <td>47.270</td>\n",
       "    </tr>\n",
       "    <tr>\n",
       "      <th>2003</th>\n",
       "      <td>17</td>\n",
       "      <td>50.783</td>\n",
       "      <td>50.783</td>\n",
       "    </tr>\n",
       "    <tr>\n",
       "      <th>2004</th>\n",
       "      <td>21</td>\n",
       "      <td>90.597</td>\n",
       "      <td>90.597</td>\n",
       "    </tr>\n",
       "    <tr>\n",
       "      <th>2005</th>\n",
       "      <td>71</td>\n",
       "      <td>974.705</td>\n",
       "      <td>974.705</td>\n",
       "    </tr>\n",
       "    <tr>\n",
       "      <th>2006</th>\n",
       "      <td>89</td>\n",
       "      <td>1221.542</td>\n",
       "      <td>1221.542</td>\n",
       "    </tr>\n",
       "    <tr>\n",
       "      <th>2007</th>\n",
       "      <td>113</td>\n",
       "      <td>1322.188</td>\n",
       "      <td>1322.188</td>\n",
       "    </tr>\n",
       "    <tr>\n",
       "      <th>2008</th>\n",
       "      <td>131</td>\n",
       "      <td>1322.540</td>\n",
       "      <td>1322.540</td>\n",
       "    </tr>\n",
       "    <tr>\n",
       "      <th>2009</th>\n",
       "      <td>204</td>\n",
       "      <td>2408.692</td>\n",
       "      <td>2408.692</td>\n",
       "    </tr>\n",
       "    <tr>\n",
       "      <th>2010</th>\n",
       "      <td>335</td>\n",
       "      <td>8815.142</td>\n",
       "      <td>8815.142</td>\n",
       "    </tr>\n",
       "    <tr>\n",
       "      <th>2011</th>\n",
       "      <td>339</td>\n",
       "      <td>6663.672</td>\n",
       "      <td>6663.672</td>\n",
       "    </tr>\n",
       "    <tr>\n",
       "      <th>2012</th>\n",
       "      <td>253</td>\n",
       "      <td>4858.915</td>\n",
       "      <td>4858.915</td>\n",
       "    </tr>\n",
       "    <tr>\n",
       "      <th>2013</th>\n",
       "      <td>173</td>\n",
       "      <td>1975.754</td>\n",
       "      <td>1975.754</td>\n",
       "    </tr>\n",
       "    <tr>\n",
       "      <th>2014</th>\n",
       "      <td>99</td>\n",
       "      <td>1572.790</td>\n",
       "      <td>1572.790</td>\n",
       "    </tr>\n",
       "    <tr>\n",
       "      <th>2015</th>\n",
       "      <td>86</td>\n",
       "      <td>1577.825</td>\n",
       "      <td>1577.825</td>\n",
       "    </tr>\n",
       "    <tr>\n",
       "      <th>2016</th>\n",
       "      <td>90</td>\n",
       "      <td>881.755</td>\n",
       "      <td>881.755</td>\n",
       "    </tr>\n",
       "    <tr>\n",
       "      <th>2017</th>\n",
       "      <td>118</td>\n",
       "      <td>1335.769</td>\n",
       "      <td>1335.769</td>\n",
       "    </tr>\n",
       "    <tr>\n",
       "      <th>2018</th>\n",
       "      <td>121</td>\n",
       "      <td>2127.823</td>\n",
       "      <td>2127.823</td>\n",
       "    </tr>\n",
       "    <tr>\n",
       "      <th>2019</th>\n",
       "      <td>179</td>\n",
       "      <td>2045.900</td>\n",
       "      <td>1920.655</td>\n",
       "    </tr>\n",
       "    <tr>\n",
       "      <th>2020</th>\n",
       "      <td>24</td>\n",
       "      <td>189.660</td>\n",
       "      <td>176.880</td>\n",
       "    </tr>\n",
       "  </tbody>\n",
       "</table>\n",
       "</div>"
      ],
      "text/plain": [
       "                          count  grossPower  netPower\n",
       "InbetriebnahmeDatum_Year                             \n",
       "1992                          2       6.496     6.496\n",
       "1995                          1       3.400     3.400\n",
       "1996                          1       1.500     1.500\n",
       "1998                          1       1.500     1.500\n",
       "2000                         34     422.590   422.590\n",
       "2001                         21      95.540    95.540\n",
       "2002                         18      47.270    47.270\n",
       "2003                         17      50.783    50.783\n",
       "2004                         21      90.597    90.597\n",
       "2005                         71     974.705   974.705\n",
       "2006                         89    1221.542  1221.542\n",
       "2007                        113    1322.188  1322.188\n",
       "2008                        131    1322.540  1322.540\n",
       "2009                        204    2408.692  2408.692\n",
       "2010                        335    8815.142  8815.142\n",
       "2011                        339    6663.672  6663.672\n",
       "2012                        253    4858.915  4858.915\n",
       "2013                        173    1975.754  1975.754\n",
       "2014                         99    1572.790  1572.790\n",
       "2015                         86    1577.825  1577.825\n",
       "2016                         90     881.755   881.755\n",
       "2017                        118    1335.769  1335.769\n",
       "2018                        121    2127.823  2127.823\n",
       "2019                        179    2045.900  1920.655\n",
       "2020                         24     189.660   176.880"
      ]
     },
     "execution_count": 16,
     "metadata": {},
     "output_type": "execute_result"
    }
   ],
   "source": [
    "pvPerYear = pv.groupby('InbetriebnahmeDatum_Year').agg(\n",
    "    count=pd.NamedAgg(column='ENH_Bruttoleistung', aggfunc='count'), \n",
    "    grossPower=pd.NamedAgg(column='ENH_Bruttoleistung', aggfunc='sum'),\n",
    "    netPower=pd.NamedAgg(column='ENH_Nettonennleistung', aggfunc='sum')\n",
    ").reset_index()\n",
    "pvPerYear.set_index('InbetriebnahmeDatum_Year', inplace=True)\n",
    "pvPerYear"
   ]
  },
  {
   "cell_type": "code",
   "execution_count": 17,
   "metadata": {},
   "outputs": [
    {
     "data": {
      "text/plain": [
       "Text(0, 0.5, 'power in W')"
      ]
     },
     "execution_count": 17,
     "metadata": {},
     "output_type": "execute_result"
    },
    {
     "data": {
      "image/png": "[encoded data removed]",
      "text/plain": [
       "<Figure size 432x288 with 2 Axes>"
      ]
     },
     "metadata": {
      "needs_background": "light"
     },
     "output_type": "display_data"
    }
   ],
   "source": [
    "axes = pvPerYear.plot.bar(y=['count', 'grossPower'], width=0.7, subplots=True)\n",
    "axes[0].set_ylabel('installations')\n",
    "axes[0].legend(loc=2)\n",
    "axes[1].set_xlabel('year of commissioning')\n",
    "axes[1].legend(['installed gross power'], loc=2)\n",
    "axes[1].set_ylabel('power in W')"
   ]
  },
  {
   "cell_type": "code",
   "execution_count": 18,
   "metadata": {},
   "outputs": [
    {
     "data": {
      "image/png": "[encoded data removed]",
      "text/plain": [
       "<Figure size 432x288 with 2 Axes>"
      ]
     },
     "metadata": {
      "needs_background": "light"
     },
     "output_type": "display_data"
    }
   ],
   "source": [
    "fig, ax = plt.subplots()\n",
    "ax2 = ax.twinx()\n",
    "width = 0.45\n",
    "count = pvPerYear['count'].plot(\n",
    "    kind='bar', color='tab:blue', ax=ax, width=width, position=1)\n",
    "ax.set_ylabel('installations')\n",
    "power = pvPerYear['grossPower'].plot(\n",
    "    kind='bar', color='tab:orange', ax=ax2, width=width, position=0)\n",
    "ax2.set_ylabel('power in W')\n",
    "ax.set_xlabel('year of commissioning')\n",
    "orange = mpatches.Patch(color='tab:orange', label='gross power')\n",
    "blue = mpatches.Patch(color='tab:blue', label='number of systems')\n",
    "plt.legend(handles=[orange, blue], loc=2)\n",
    "plt.ion()"
   ]
  },
  {
   "cell_type": "markdown",
   "metadata": {},
   "source": [
    "### Histogram of net power"
   ]
  },
  {
   "cell_type": "code",
   "execution_count": 19,
   "metadata": {},
   "outputs": [
    {
     "data": {
      "text/html": [
       "<div>\n",
       "<style scoped>\n",
       "    .dataframe tbody tr th:only-of-type {\n",
       "        vertical-align: middle;\n",
       "    }\n",
       "\n",
       "    .dataframe tbody tr th {\n",
       "        vertical-align: top;\n",
       "    }\n",
       "\n",
       "    .dataframe thead th {\n",
       "        text-align: right;\n",
       "    }\n",
       "</style>\n",
       "<table border=\"1\" class=\"dataframe\">\n",
       "  <thead>\n",
       "    <tr style=\"text-align: right;\">\n",
       "      <th></th>\n",
       "      <th>ENH_Bruttoleistung</th>\n",
       "      <th>ENH_Nettonennleistung</th>\n",
       "    </tr>\n",
       "  </thead>\n",
       "  <tbody>\n",
       "    <tr>\n",
       "      <th>count</th>\n",
       "      <td>2541.000000</td>\n",
       "      <td>2541.000000</td>\n",
       "    </tr>\n",
       "    <tr>\n",
       "      <th>mean</th>\n",
       "      <td>15.747481</td>\n",
       "      <td>15.693161</td>\n",
       "    </tr>\n",
       "    <tr>\n",
       "      <th>std</th>\n",
       "      <td>47.879889</td>\n",
       "      <td>47.832927</td>\n",
       "    </tr>\n",
       "    <tr>\n",
       "      <th>min</th>\n",
       "      <td>0.150000</td>\n",
       "      <td>0.150000</td>\n",
       "    </tr>\n",
       "    <tr>\n",
       "      <th>25%</th>\n",
       "      <td>4.410000</td>\n",
       "      <td>4.410000</td>\n",
       "    </tr>\n",
       "    <tr>\n",
       "      <th>50%</th>\n",
       "      <td>6.500000</td>\n",
       "      <td>6.480000</td>\n",
       "    </tr>\n",
       "    <tr>\n",
       "      <th>75%</th>\n",
       "      <td>9.920000</td>\n",
       "      <td>9.900000</td>\n",
       "    </tr>\n",
       "    <tr>\n",
       "      <th>max</th>\n",
       "      <td>998.870000</td>\n",
       "      <td>998.870000</td>\n",
       "    </tr>\n",
       "  </tbody>\n",
       "</table>\n",
       "</div>"
      ],
      "text/plain": [
       "       ENH_Bruttoleistung  ENH_Nettonennleistung\n",
       "count         2541.000000            2541.000000\n",
       "mean            15.747481              15.693161\n",
       "std             47.879889              47.832927\n",
       "min              0.150000               0.150000\n",
       "25%              4.410000               4.410000\n",
       "50%              6.500000               6.480000\n",
       "75%              9.920000               9.900000\n",
       "max            998.870000             998.870000"
      ]
     },
     "execution_count": 19,
     "metadata": {},
     "output_type": "execute_result"
    }
   ],
   "source": [
    "power = pv[['ENH_Bruttoleistung', 'ENH_Nettonennleistung']]\n",
    "power.describe()"
   ]
  },
  {
   "cell_type": "code",
   "execution_count": 20,
   "metadata": {
    "scrolled": true
   },
   "outputs": [
    {
     "data": {
      "text/plain": [
       "<matplotlib.axes._subplots.AxesSubplot at 0x7fde2cf448d0>"
      ]
     },
     "execution_count": 20,
     "metadata": {},
     "output_type": "execute_result"
    },
    {
     "data": {
      "image/png": "[encoded data removed]",
      "text/plain": [
       "<Figure size 432x288 with 1 Axes>"
      ]
     },
     "metadata": {
      "needs_background": "light"
     },
     "output_type": "display_data"
    }
   ],
   "source": [
    "grossPower = power['ENH_Bruttoleistung']\n",
    "grossPower.hist(bins=60)"
   ]
  },
  {
   "cell_type": "code",
   "execution_count": 21,
   "metadata": {
    "scrolled": true
   },
   "outputs": [
    {
     "name": "stdout",
     "output_type": "stream",
     "text": [
      "[0.15, 16.80]: 2168\n",
      "[16.80, 33.44]: 206\n",
      "[33.44, 50.09]: 44\n",
      "[50.09, 66.73]: 40\n",
      "[66.73, 83.38]: 11\n",
      "[83.38, 100.02]: 14\n",
      "[100.02, 116.67]: 5\n",
      "[116.67, 133.31]: 9\n",
      "[133.31, 149.96]: 5\n",
      "[149.96, 166.60]: 5\n",
      "[166.60, 183.25]: 4\n",
      "[183.25, 199.89]: 4\n",
      "[199.89, 216.54]: 1\n",
      "[216.54, 233.18]: 3\n",
      "[233.18, 249.83]: 2\n",
      "[249.83, 266.48]: 5\n",
      "[266.48, 283.12]: 0\n",
      "[283.12, 299.77]: 2\n",
      "[299.77, 316.41]: 1\n",
      "[316.41, 333.06]: 3\n",
      "[333.06, 349.70]: 1\n",
      "[349.70, 366.35]: 1\n",
      "[366.35, 382.99]: 0\n",
      "[382.99, 399.64]: 0\n",
      "[399.64, 416.28]: 0\n",
      "[416.28, 432.93]: 1\n",
      "[432.93, 449.57]: 0\n",
      "[449.57, 466.22]: 0\n",
      "[466.22, 482.86]: 0\n",
      "[482.86, 499.51]: 0\n",
      "[499.51, 516.16]: 0\n",
      "[516.16, 532.80]: 1\n",
      "[532.80, 549.45]: 0\n",
      "[549.45, 566.09]: 0\n",
      "[566.09, 582.74]: 0\n",
      "[582.74, 599.38]: 0\n",
      "[599.38, 616.03]: 0\n",
      "[616.03, 632.67]: 1\n",
      "[632.67, 649.32]: 0\n",
      "[649.32, 665.96]: 0\n",
      "[665.96, 682.61]: 0\n",
      "[682.61, 699.25]: 0\n",
      "[699.25, 715.90]: 1\n",
      "[715.90, 732.54]: 0\n",
      "[732.54, 749.19]: 0\n",
      "[749.19, 765.84]: 0\n",
      "[765.84, 782.48]: 0\n",
      "[782.48, 799.13]: 0\n",
      "[799.13, 815.77]: 2\n",
      "[815.77, 832.42]: 0\n",
      "[832.42, 849.06]: 0\n",
      "[849.06, 865.71]: 0\n",
      "[865.71, 882.35]: 0\n",
      "[882.35, 899.00]: 0\n",
      "[899.00, 915.64]: 0\n",
      "[915.64, 932.29]: 0\n",
      "[932.29, 948.93]: 0\n",
      "[948.93, 965.58]: 0\n",
      "[965.58, 982.22]: 0\n",
      "[982.22, 998.87]: 1\n"
     ]
    }
   ],
   "source": [
    "count, bins = np.histogram(grossPower, bins=60)\n",
    "for index in range(count.size):\n",
    "    print('[%0.2f, %0.2f]: %d' % (bins[index], bins[index + 1], count[index]))"
   ]
  },
  {
   "cell_type": "markdown",
   "metadata": {},
   "source": [
    "### Geo-Coordinates"
   ]
  },
  {
   "cell_type": "code",
   "execution_count": 22,
   "metadata": {
    "scrolled": true
   },
   "outputs": [],
   "source": [
    "hasLat = ~pv.ENH_Laengengrad.isna()\n",
    "hasLon = ~pv.ENH_Breitengrad.isna()\n",
    "systemsWithCoordinates = pv.loc[hasLat & hasLon]\n",
    "systemsWithCoordinatesClean = systemsWithCoordinates[interestingColumns].reset_index(drop=True)"
   ]
  },
  {
   "cell_type": "code",
   "execution_count": 23,
   "metadata": {},
   "outputs": [],
   "source": [
    "systemsWithCoordinatesClean.to_csv(\"/data/karlsruhe-PV-withLatLon.csv\")"
   ]
  }
 ],
 "metadata": {
  "kernelspec": {
   "display_name": "Python 3",
   "language": "python",
   "name": "python3"
  },
  "language_info": {
   "codemirror_mode": {
    "name": "ipython",
    "version": 3
   },
   "file_extension": ".py",
   "mimetype": "text/x-python",
   "name": "python",
   "nbconvert_exporter": "python",
   "pygments_lexer": "ipython3",
   "version": "3.7.6"
  }
 },
 "nbformat": 4,
 "nbformat_minor": 4
}
